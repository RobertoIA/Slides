{
 "cells": [
  {
   "cell_type": "code",
   "execution_count": 13,
   "metadata": {
    "collapsed": false
   },
   "outputs": [],
   "source": [
    "from random import randint\n",
    "\n",
    "def secreto(a, b):\n",
    "    \"\"\"\n",
    "    Genera un número secreto entre a y b.\n",
    "    \"\"\"\n",
    "    return randint(a, b)\n",
    "\n",
    "def adivinar():\n",
    "    \"\"\"\n",
    "    Pide al jugador que intente adivinar un número.\n",
    "    Devuelve None en caso de que el jugador no introduzca un número.\n",
    "    \"\"\"\n",
    "    entrada = raw_input('¿En qué número estoy pensando?\\nEl ')\n",
    "    try:\n",
    "        return int(entrada)\n",
    "    except ValueError:\n",
    "        return"
   ]
  }
 ],
 "metadata": {
  "kernelspec": {
   "display_name": "Python 2",
   "language": "python",
   "name": "python2"
  },
  "language_info": {
   "codemirror_mode": {
    "name": "ipython",
    "version": 2
   },
   "file_extension": ".py",
   "mimetype": "text/x-python",
   "name": "python",
   "nbconvert_exporter": "python",
   "pygments_lexer": "ipython2",
   "version": "2.7.12"
  }
 },
 "nbformat": 4,
 "nbformat_minor": 2
}
