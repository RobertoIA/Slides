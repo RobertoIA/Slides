{
 "cells": [
  {
   "cell_type": "code",
   "execution_count": 13,
   "metadata": {
    "collapsed": false
   },
   "outputs": [],
   "source": [
    "from random import randint\n",
    "\n",
    "def secreto(a, b):\n",
    "    \"\"\"\n",
    "    Genera un número secreto entre a y b.\n",
    "    \"\"\"\n",
    "    return randint(a, b)\n",
    "\n",
    "def adivinar():\n",
    "    \"\"\"\n",
    "    Pide al jugador que intente adivinar un número.\n",
    "    Devuelve None en caso de que el jugador no introduzca un número.\n",
    "    \"\"\"\n",
    "    entrada = raw_input('¿En qué número estoy pensando?\\nEl ')\n",
    "    try:\n",
    "        return int(entrada)\n",
    "    except ValueError:\n",
    "        return"
   ]
  },
  {
   "cell_type": "code",
   "execution_count": 19,
   "metadata": {
    "collapsed": false
   },
   "outputs": [
    {
     "name": "stdout",
     "output_type": "stream",
     "text": [
      "Pensado número 1\n",
      "¿En qué número estoy pensando?\n",
      "El jlasjkda\n",
      "Introduce un número!\n",
      "¿En qué número estoy pensando?\n",
      "El 1\n",
      "Correcto!\n"
     ]
    }
   ],
   "source": [
    "numero_secreto, numero_adivinado = secreto(1, 11), 0\n",
    "\n",
    "print \"Pensado número %i\" % numero_secreto\n",
    "\n",
    "while numero_secreto is not numero_adivinado:\n",
    "    numero_adivinado = adivinar()\n",
    "    \n",
    "    if not numero_adivinado:\n",
    "        print \"Introduce un número!\"\n",
    "        continue\n",
    "        \n",
    "    if numero_adivinado > numero_secreto:\n",
    "        print \"El número es menor que %i!\" % numero_adivinado\n",
    "    elif numero_adivinado < numero_secreto:\n",
    "        print \"El número es mayor que %i!\" % numero_adivinado\n",
    "    else:\n",
    "        print \"Correcto!\"\n",
    "        break"
   ]
  }
 ],
 "metadata": {
  "kernelspec": {
   "display_name": "Python 2",
   "language": "python",
   "name": "python2"
  },
  "language_info": {
   "codemirror_mode": {
    "name": "ipython",
    "version": 2
   },
   "file_extension": ".py",
   "mimetype": "text/x-python",
   "name": "python",
   "nbconvert_exporter": "python",
   "pygments_lexer": "ipython2",
   "version": "2.7.12"
  }
 },
 "nbformat": 4,
 "nbformat_minor": 2
}
