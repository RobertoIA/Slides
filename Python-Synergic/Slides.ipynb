{
 "cells": [
  {
   "cell_type": "markdown",
   "metadata": {
    "cell_style": "split",
    "slideshow": {
     "slide_type": "slide"
    }
   },
   "source": [
    "# Python"
   ]
  },
  {
   "cell_type": "markdown",
   "metadata": {
    "cell_style": "split",
    "slideshow": {
     "slide_type": "slide"
    }
   },
   "source": [
    "## Módulo 1 - Introducción"
   ]
  },
  {
   "cell_type": "markdown",
   "metadata": {
    "slideshow": {
     "slide_type": "subslide"
    }
   },
   "source": [
    "### ¿Por qué?\n",
    "\n",
    "* Gratuito, portable, potente y sencillo de utilizar.\n",
    "* Quinto lenguaje más utilizado según el [TIOBE index](http://www.tiobe.com/tiobe_index)\n",
    "* Como comparación, R ocupa la posición 19\n",
    "* Más de 600,000 preguntas con la etiqueta Python en [StackOverflow](http://stackoverflow.com/questions/tagged/python)\n",
    "* Más de 80,000 librerías en el [Python Package Index](https://pypi.python.org/pypi)"
   ]
  },
  {
   "cell_type": "markdown",
   "metadata": {
    "slideshow": {
     "slide_type": "subslide"
    }
   },
   "source": [
    "### ¿Quién?\n",
    "<img class=\"lside\" style=\"width:20%;\" src=\"https://upload.wikimedia.org/wikipedia/commons/thumb/6/66/Guido_van_Rossum_OSCON_2006.jpg/200px-Guido_van_Rossum_OSCON_2006.jpg\">\n",
    "\n",
    "<div class=\"rside\" style=\"width:75%;\"/>\n",
    "\n",
    "**Guido van Rossum**\n",
    "\n",
    "*Benevolent Dictator For Life*\n",
    "\n",
    "<blockquote><small>Over six years ago, in December 1989, I was looking for a \"hobby\" programming project that would keep me occupied during the week around Christmas. My office ...would be closed, but I had a home computer, and not much else on my hands. I decided to write an interpreter for the new scripting language I had been thinking about lately: a descendant of ABC that would appeal to Unix/C hackers. I chose Python as a working title for the project, being in a slightly irreverent mood (and a big fan of <a href=\"https://en.wikipedia.org/wiki/Monty_Python%27s_Flying_Circus\">Monty Python's Flying Circus</a>)</small></blockquote>"
   ]
  },
  {
   "cell_type": "markdown",
   "metadata": {
    "slideshow": {
     "slide_type": "subslide"
    }
   },
   "source": [
    "### ¿Qué?\n",
    "\n",
    "* Popular lenguaje de programación Open Source.\n",
    "* Aplicación en aplicaciones completas y scripting.\n",
    "* Enfocado a la productividad, y a la calidad y claridad de código."
   ]
  },
  {
   "cell_type": "markdown",
   "metadata": {
    "slideshow": {
     "slide_type": "subslide"
    }
   },
   "source": [
    "* Lenguaje de alto nivel <br/><small>Sencillo de programar, funciona sin cambios en distintos sistemas.</small>\n",
    "* Interpretado, no compilado <br/><small>Permite uso interactivo al coste de velocidad de ejecución.</small>\n",
    "* Gestión automática de memoria\n",
    "* Multi-paradigma <br/><small>Mezcla programación imperativa, funcional y orientada a objetos.</small>\n",
    "* Tipado dinámico <br/><small>Los objetos tienen tipo, las variables no</small>\n",
    "* Extensa librería estándar\n",
    "* Indentación semántica en lugar de llaves"
   ]
  },
  {
   "cell_type": "markdown",
   "metadata": {
    "cell_style": "split",
    "slideshow": {
     "slide_type": "subslide"
    }
   },
   "source": [
    "### Zen de Python\n",
    "\n",
    "*There should be one (and preferably only one) obvious way to do it.*"
   ]
  },
  {
   "cell_type": "code",
   "execution_count": 5,
   "metadata": {
    "cell_style": "split",
    "collapsed": false,
    "slideshow": {
     "slide_type": "fragment"
    }
   },
   "outputs": [
    {
     "name": "stdout",
     "output_type": "stream",
     "text": [
      "The Zen of Python, by Tim Peters\n",
      "\n",
      "Beautiful is better than ugly.\n",
      "Explicit is better than implicit.\n",
      "Simple is better than complex.\n",
      "Complex is better than complicated.\n",
      "Flat is better than nested.\n",
      "Sparse is better than dense.\n",
      "Readability counts.\n",
      "Special cases aren't special enough to break the rules.\n",
      "Although practicality beats purity.\n",
      "Errors should never pass silently.\n",
      "Unless explicitly silenced.\n",
      "In the face of ambiguity, refuse the temptation to guess.\n",
      "There should be one-- and preferably only one --obvious way to do it.\n",
      "Although that way may not be obvious at first unless you're Dutch.\n",
      "Now is better than never.\n",
      "Although never is often better than *right* now.\n",
      "If the implementation is hard to explain, it's a bad idea.\n",
      "If the implementation is easy to explain, it may be a good idea.\n",
      "Namespaces are one honking great idea -- let's do more of those!\n"
     ]
    }
   ],
   "source": [
    "import this"
   ]
  },
  {
   "cell_type": "markdown",
   "metadata": {
    "slideshow": {
     "slide_type": "subslide"
    }
   },
   "source": [
    "### 2.7 vs 3.6\n",
    "\n",
    "* Versiones incompatibles <br/><small>Partes de 3.x disponibles en 2.x con el módulo __future__.</small>\n",
    "* Versión 2.7 incluida por defecto en OS X y la mayoria de distros linux.\n",
    "* La versión 3.x continua actualizandose, la 2.x solo recibe bugfixes.\n",
    "* Todavia existen librerías incompatibles con Python 3\n",
    "* Python 3 incorpora una serie de cambios que impiden retrocompatibilidad <br/><small>Mejora soporte unicode, corrige inconsistencias del lenguaje...</small>"
   ]
  },
  {
   "cell_type": "markdown",
   "metadata": {
    "cell_style": "split",
    "slideshow": {
     "slide_type": "subslide"
    }
   },
   "source": [
    "### Instalación de paquetes\n",
    "\n",
    "**Usando pip**\n",
    "<blockquote>pip install numpy</blockquote>\n",
    "\n",
    "**Usando anaconda**\n",
    "<blockquote>conda install numpy</blockquote>"
   ]
  },
  {
   "cell_type": "markdown",
   "metadata": {
    "cell_style": "split",
    "slideshow": {
     "slide_type": "fragment"
    }
   },
   "source": [
    "* Múltiples instalaciones intercambiables utilizando *entornos virtuales*\n",
    "* Pip y Anaconda pueden usarse al mismo tiempo, pero no interoperan\n",
    "* Anaconda permite instalar dependencias del sistema"
   ]
  },
  {
   "cell_type": "markdown",
   "metadata": {
    "slideshow": {
     "slide_type": "subslide"
    }
   },
   "source": [
    "### Formato y ejecución\n",
    "\n",
    "* Directamente desde línea de comandos\n",
    "* Mediante un REPL (comandos python / ipython)\n",
    "* Ejecutando un script (ficheros .py)\n",
    "* Dentro de un notebook"
   ]
  },
  {
   "cell_type": "markdown",
   "metadata": {
    "slideshow": {
     "slide_type": "subslide"
    }
   },
   "source": [
    "**Línea de comandos**\n",
    "<img src=\"imgs/1_python_command.png\">"
   ]
  },
  {
   "cell_type": "markdown",
   "metadata": {
    "slideshow": {
     "slide_type": "subslide"
    }
   },
   "source": [
    "**REPL de Python**\n",
    "<img src=\"imgs/1_python_shell.png\"/>\n",
    "\n",
    "**REPL de iPython / Jupyter**\n",
    "<img src=\"imgs/1_ipython_shell.png\"/>"
   ]
  },
  {
   "cell_type": "markdown",
   "metadata": {
    "slideshow": {
     "slide_type": "subslide"
    }
   },
   "source": [
    "**Desde un fichero .py**\n",
    "<img src=\"imgs/1_python_file.png\"/>\n",
    "\n",
    "**Dentro de un notebook**\n",
    "<img src=\"imgs/1_python_notebook.png\"/>"
   ]
  }
 ],
 "metadata": {
  "celltoolbar": "Slideshow",
  "kernelspec": {
   "display_name": "Python 2",
   "language": "python",
   "name": "python2"
  },
  "language_info": {
   "codemirror_mode": {
    "name": "ipython",
    "version": 2
   },
   "file_extension": ".py",
   "mimetype": "text/x-python",
   "name": "python",
   "nbconvert_exporter": "python",
   "pygments_lexer": "ipython2",
   "version": "2.7.12"
  }
 },
 "nbformat": 4,
 "nbformat_minor": 1
}
