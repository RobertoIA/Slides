{
 "cells": [
  {
   "cell_type": "markdown",
   "metadata": {},
   "source": [
    "### Ejercicio 2\n",
    "\n",
    "El objetivo de este ejercicio es analizar una muestra de logs provenientes de [un servidor de la NASA](http://ita.ee.lbl.gov/html/contrib/NASA-HTTP.html). Los datos se encuentran en el fichero **logs**.\n",
    "\n",
    "Cada linea del fichero contiene los siguientes datos, separados por tabulador ('\\t'):\n",
    "* dirección / ip que realiza la petición\n",
    "* timestamp\n",
    "* petición\n",
    "* respuesta HTTP\n",
    "* longitud de la respuesta en bytes"
   ]
  },
  {
   "cell_type": "markdown",
   "metadata": {},
   "source": [
    "**Imprime el archivo solicitado en la petición para aquellas peticiones que fallen (respuesta HTTP 404)**"
   ]
  },
  {
   "cell_type": "code",
   "execution_count": 8,
   "metadata": {
    "collapsed": false
   },
   "outputs": [
    {
     "name": "stdout",
     "output_type": "stream",
     "text": [
      "/news/sci.space.shuttle/archive/sci-space-shuttle-22-apr-1995-40.txt\n",
      "/pub/winvn/readme.txt\n",
      "/pub/winvn/readme.txt\n",
      "/persons/astronauts/i-to-l/lousmaJR.txt\n",
      "/persons/astronauts/a-to-d/beanAL.txt\n",
      "/pub/winvn/readme.txt\n"
     ]
    }
   ],
   "source": []
  },
  {
   "cell_type": "markdown",
   "metadata": {},
   "source": [
    "**Cuenta el número de direcciones de petición que acaban en .com (únicas, distintas, o ambas)**"
   ]
  },
  {
   "cell_type": "code",
   "execution_count": 20,
   "metadata": {
    "collapsed": false
   },
   "outputs": [
    {
     "name": "stdout",
     "output_type": "stream",
     "text": [
      "38 unicas, 17 distintas\n",
      "\n",
      "burger.letters.com\n",
      "net-1-141.eden.com\n",
      "alyssa.prodigy.com\n",
      "dial22.lloyd.com\n",
      "smyth-pc.moorecap.com\n",
      "ix-orl2-01.ix.netcom.com\n",
      "piweba3y.prodigy.com\n",
      "ppp-nyc-3-1.ios.com\n",
      "port26.annex2.nwlink.com\n",
      "dd14-012.compuserve.com\n",
      "www-a1.proxy.aol.com\n",
      "dd15-062.compuserve.com\n",
      "www-b4.proxy.aol.com\n",
      "slip1.yab.com\n",
      "ix-or10-06.ix.netcom.com\n",
      "dave.dev1.ihub.com\n",
      "pm13.j51.com\n"
     ]
    }
   ],
   "source": []
  }
 ],
 "metadata": {
  "kernelspec": {
   "display_name": "Python 2",
   "language": "python",
   "name": "python2"
  },
  "language_info": {
   "codemirror_mode": {
    "name": "ipython",
    "version": 2
   },
   "file_extension": ".py",
   "mimetype": "text/x-python",
   "name": "python",
   "nbconvert_exporter": "python",
   "pygments_lexer": "ipython2",
   "version": "2.7.12"
  }
 },
 "nbformat": 4,
 "nbformat_minor": 2
}
