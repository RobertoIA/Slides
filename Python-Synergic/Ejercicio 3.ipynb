{
 "cells": [
  {
   "cell_type": "markdown",
   "metadata": {
    "collapsed": true
   },
   "source": [
    "* Descargar el quijote completo en un fichero de text ([link](http://latel.upf.edu/traductica/scp/quijote/quijote.txt))\n",
    "* Procesar el texto, tomando nota de que palabra o palabras pueden encontrarse a continuación de cada palabra (ej. \"la\" -> \"mancha\"). Almacenarlo en una estructura de datos adecuada.\n",
    "* Elegir una palabra al azar del texto, y encadenarla con una de las posibles palabras que la siguen.\n",
    "* Encadenar un buen número de palabras e imprimir el resultado por pantalla."
   ]
  },
  {
   "cell_type": "code",
   "execution_count": 1,
   "metadata": {
    "collapsed": false
   },
   "outputs": [
    {
     "name": "stdout",
     "output_type": "stream",
     "text": [
      "3\n",
      "a\n"
     ]
    }
   ],
   "source": [
    "from random import choice\n",
    "\n",
    "# choice devuelve un elemento al azar de una lista\n",
    "\n",
    "print choice([1, 2, 3, 4])\n",
    "print choice({'a': 'b', 'c': 'd'}.keys())"
   ]
  },
  {
   "cell_type": "code",
   "execution_count": 12,
   "metadata": {
    "collapsed": false
   },
   "outputs": [
    {
     "name": "stdout",
     "output_type": "stream",
     "text": [
      "revueltas razones cortesanas y los del corral a d�nde ven�s a caminar por acrecentar la pueda con que ya la mano y poniendo piernas al descubierto de encantamientos ni temor ni el salario de una de esta fue hecho m�s tachas que en la faz de su amo de la verdad que anda el fin le saque de tu buen porqu� que trataban de �l quisiera apearse del mayor brevedad su libro donde estaba dando la del mundo su lumbre o en que se�oreaba de oro seg�n eran fantasmas y dadme cuenta primero trance que no hay casi novecientos a�os: as� ser� raz�n que por ahora que merec�a el juicio y significativo como se pierde se tendi� los estudios olvid�baseme decir esto dijo sancho que andaban por su imaginaci�n que como nosotros viene aqu� adelante y di� consigo as� el labrador del d�a si a los venideros siglos; y fue poner nombre tan justa y al due�o pues se�or compadre replic� don quijote �qu� le dejase; pero puesto que soy natural (que tal manera que ha de escuderos fuesen en esto es m�s versado en la suerte dijo sancho panza su jumento porque el que muri� por el mundo no hubieron andado discreto y tir�ndola hacia nosotros no se refocilar�an juntos como vuestra merced cuenta de lo que corran igualmente las l�grimas y no son bastantes a cuestas de siete y cogiendo a una tela el sue�o; el apretar la honestidad dio el m�sero cuerpo o de la ardiente espada pregunt�le su adarga ni crecer por no pueda cumplir con mucha brevedad que al dedo y as� digo en la cuenta levantadas las a m� un cierto fermosas se�oras sin duda este peligro aunque no puedes ayudar a los dos luminares mayores porrazos que la que como si no cebada; el aviso de alcovendas vengo oh discreto y cual mand� que se tardare en este tiempo fui y don quijote y compa��a a una almohada sin yo no hab�a quebrado toda buena pieza por el lugar del coche admirada y polvoso rostro que cometer� un gran trecho que est� deste lugar para que yo la de haber sido cosa tan fuerte; desconcierta la puerta de su casa de a la doncella la doncella acuitar�se mucho agravio que fuese a dalle el olor que se quejaba; y t� ahora si son las persuasiones del aposento con todo concordia: a�n si no hace m�s en que todas estas razones (y a�n la cruz est� dicho un patio del pobre escudero fiel cristiano est� advertido en la noche pu�deslo creer que esta mi se�ora la vuestra merced es grande que ten�a asido no te duele m�s pu�adas y estimados del entierro del otro afirmar si yo bebiere; porque as� el cautivo coraz�n profunda llaga de trote se supo conocer ser hallar �qu� de guardar en ello es mi persona muy peque�as hecho y como si ser� sin temor alguno verdaderamente supiera que don quijote; el temor que ha ganado el sordo y que se yerra una manzana si por aquel no se pusieron su cama a ensalada fiambre y emplastado lleg�se a su mucha humildad le espera �a qu� es pues don quijote y no fueron golpes con unos �rboles el cuadrillero y las masc� y siguieron su escudero de amor que no habiendo quedado falto y cuatro torres y proseguid vuestra casa; mas no las aventuras y mantas de ceca en todos mis labios corales perlas acudi� a las amenazas ya �l supiese de marqu�s de pensar cu�l de un grande que el pensamiento gui� a los mercaderes al ruido de locura era lo sep�is que seais y con lo que era encaminado a fe que en perpetua memoria: de hacerse caballero la melindrosa marcela con todo g�nero de su dama que estaba mostrando ser hermosa; que con muestras esta parte donde se vi� que ninguno cuanto hab�a dicho que antes que pudieron tener en despoblado bien y defensa le asent� dos lechos el segundo toque se�ora vino a su licor no pod�a competir con qu� la victoria de la caballer�a no quer�a morir de puerto l�pice y en invierno as� como las espaldas pero si no consiente ni la hiciera dejar de camino a �l les es un escudero se usa en la rosada aurora que fue luego en aquella libertad he dicho yo tengo que no dej�is llevar armas para qu� te dir� que no se han vuelto a caballo en la mula del palacio ricamente aderezado donde yo s� respondi� que me tienen mis buenos y cargaron de avila que creo que por t�rmino deja ese no pon�a los que habiendo sancho panza que de aquel que viene dijo que �l anduvo enamorado ausente desde�ado y aunque s� decir que no s� cu�ntos mendrugos de esta manera: yace aqu� adelante nos prendan; y pasm�se sancho amigo dijo don quijote mas a la gentileza se los peligros duerme y miran el cura: ah� a correr de entrambos; y consejo (pues a�n se tuvieron dejamos nuestro lugar ahora veamos si va mucha priesa por lo que con aquel trato ten�a por eso respondi� vivaldo a tan contrario accidente de manera cuentas tu condici�n que los dem�s cosas iguala �gran merced dijo esta gente endiablada moza forcejeaba por �l pasa todas las desgracias y aun la puso cerbino al marcharse el ventero y una manta de su hambre almorzaron comieron lo que luego al arz�n delantero y se anda el blanco pecho y fementido lecho no m�s que a decir se�or �quiere vuestra grandeza disponga de tener sancho panza sino a todas partes curadillo y cast�galos muy acertado que viene a su gusto que por privilegio de vuestra posada le ten�a algunos libros le entendi�rais respondi� don quijote si le ten�a por eso han parado a la noche en aquel que el segundo por otras conced�a porque nunca fuera respondi� el �ltimo trance le hubiese quedado manca y volviendo de membraros de decir qui�rote por haberle o�do de entretenimiento sin que estaba primero\n"
     ]
    }
   ],
   "source": []
  }
 ],
 "metadata": {
  "kernelspec": {
   "display_name": "Python 2",
   "language": "python",
   "name": "python2"
  },
  "language_info": {
   "codemirror_mode": {
    "name": "ipython",
    "version": 2
   },
   "file_extension": ".py",
   "mimetype": "text/x-python",
   "name": "python",
   "nbconvert_exporter": "python",
   "pygments_lexer": "ipython2",
   "version": "2.7.12"
  }
 },
 "nbformat": 4,
 "nbformat_minor": 2
}
